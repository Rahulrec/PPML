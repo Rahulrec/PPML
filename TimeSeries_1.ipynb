{
  "nbformat": 4,
  "nbformat_minor": 0,
  "metadata": {
    "colab": {
      "provenance": [],
      "authorship_tag": "ABX9TyNa06gA0m+bpL7otWdjEvLs",
      "include_colab_link": true
    },
    "kernelspec": {
      "name": "python3",
      "display_name": "Python 3"
    },
    "language_info": {
      "name": "python"
    }
  },
  "cells": [
    {
      "cell_type": "markdown",
      "metadata": {
        "id": "view-in-github",
        "colab_type": "text"
      },
      "source": [
        "<a href=\"https://colab.research.google.com/github/Rahulrec/PPML/blob/main/TimeSeries_1.ipynb\" target=\"_parent\"><img src=\"https://colab.research.google.com/assets/colab-badge.svg\" alt=\"Open In Colab\"/></a>"
      ]
    },
    {
      "cell_type": "code",
      "execution_count": null,
      "metadata": {
        "colab": {
          "base_uri": "https://localhost:8080/"
        },
        "id": "rWXnLC7uncyH",
        "outputId": "9ab3deb6-1112-4043-dcf9-265e1b45c276"
      },
      "outputs": [
        {
          "output_type": "stream",
          "name": "stdout",
          "text": [
            "2024-05-29 13:51:05.410997\n"
          ]
        }
      ],
      "source": [
        "import datetime as dt\n",
        "cd=dt.datetime.now()\n",
        "print(cd)"
      ]
    },
    {
      "cell_type": "code",
      "source": [
        "res=cd.strftime(\"%y\")\n",
        "print(\"\\n Two_Digit year:\",res)"
      ],
      "metadata": {
        "colab": {
          "base_uri": "https://localhost:8080/"
        },
        "id": "VVbc9Bcpnj42",
        "outputId": "690ee2d9-b681-43b8-9f01-26b985a50ff7"
      },
      "execution_count": null,
      "outputs": [
        {
          "output_type": "stream",
          "name": "stdout",
          "text": [
            "\n",
            " Two_Digit year: 24\n"
          ]
        }
      ]
    },
    {
      "cell_type": "code",
      "source": [
        "res1=cd.strftime(\"%y\")\n",
        "print(\"\\n Four_digit year:\",res1)\n",
        "res=cd.strftime(\"%m\")\n",
        "print(\"\\n Two_digit month[01,12]:\",res)\n",
        "res=cd.strftime(\"%m\")\n",
        "print(\"\\n Two_digit month[01,12]:\",res)\n",
        "res=cd.strftime(\"%b\")\n",
        "print(\"\\n Short version of month:\",res)\n",
        "res=cd.strftime(\"%B\")\n",
        "print(\"\\n Full name of the month:\",res)\n"
      ],
      "metadata": {
        "colab": {
          "base_uri": "https://localhost:8080/"
        },
        "id": "cWiiRIU5nqEz",
        "outputId": "702218e2-ddcc-4038-881c-9d5d1299d999"
      },
      "execution_count": null,
      "outputs": [
        {
          "output_type": "stream",
          "name": "stdout",
          "text": [
            "\n",
            " Four_digit year: 24\n",
            "\n",
            " Two_digit month[01,12]: 05\n",
            "\n",
            " Two_digit month[01,12]: 05\n",
            "\n",
            " Short version of month: May\n",
            "\n",
            " Full name of the month: May\n"
          ]
        }
      ]
    },
    {
      "cell_type": "code",
      "source": [
        "res=cd.strftime(\"%j\")\n",
        "print(\"\\n Days of the year:\",res)\n",
        "res=cd\n"
      ],
      "metadata": {
        "colab": {
          "base_uri": "https://localhost:8080/"
        },
        "id": "EDSVBnx4nwH8",
        "outputId": "4eb4a821-7f6c-4322-d01f-c8bbe0370e2e"
      },
      "execution_count": null,
      "outputs": [
        {
          "output_type": "stream",
          "name": "stdout",
          "text": [
            "\n",
            " Days of the year: 150\n"
          ]
        }
      ]
    }
  ]
}