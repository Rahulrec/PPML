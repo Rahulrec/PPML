{
  "nbformat": 4,
  "nbformat_minor": 0,
  "metadata": {
    "colab": {
      "provenance": [],
      "authorship_tag": "ABX9TyNAn83RfUuTNJT4XEnSQSu3",
      "include_colab_link": true
    },
    "kernelspec": {
      "name": "python3",
      "display_name": "Python 3"
    },
    "language_info": {
      "name": "python"
    }
  },
  "cells": [
    {
      "cell_type": "markdown",
      "metadata": {
        "id": "view-in-github",
        "colab_type": "text"
      },
      "source": [
        "<a href=\"https://colab.research.google.com/github/Rahulrec/PPML/blob/main/PANDAS_DATAFRAME_BASICS.ipynb\" target=\"_parent\"><img src=\"https://colab.research.google.com/assets/colab-badge.svg\" alt=\"Open In Colab\"/></a>"
      ]
    },
    {
      "cell_type": "code",
      "execution_count": null,
      "metadata": {
        "colab": {
          "base_uri": "https://localhost:8080/"
        },
        "id": "c86iaDyW_kmc",
        "outputId": "c23e1c8a-36d2-42d7-b530-04a1966129ac"
      },
      "outputs": [
        {
          "output_type": "stream",
          "name": "stdout",
          "text": [
            "Empty DataFrame\n",
            "Columns: []\n",
            "Index: []\n",
            "\n",
            " Series to DataFrame\n",
            "\n",
            "       Emp   10\n",
            "0   Parker  102\n",
            "1     John  107\n",
            "2    Smith  109\n",
            "3  William  114\n",
            "\n",
            " extracting one column:\n",
            "\n",
            "0     Parker\n",
            "1       John\n",
            "2      Smith\n",
            "3    William\n",
            "Name: Emp, dtype: object\n",
            "\n",
            " Adding new column:\n",
            "\n",
            "       Emp   10  Age\n",
            "0   Parker  102   35\n",
            "1     John  107   24\n",
            "2    Smith  109   40\n",
            "3  William  114   38\n",
            "\n",
            " deleting one column :\n",
            "\n",
            "       Emp   10\n",
            "0   Parker  102\n",
            "1     John  107\n",
            "2    Smith  109\n",
            "3  William  114\n",
            "\n",
            " Extracting the third row:\n",
            "\n",
            "Emp    Smith\n",
            "10       109\n",
            "Name: 2, dtype: object\n",
            "\n",
            " slice rows:\n",
            "      Emp   10\n",
            "1   John  107\n",
            "2  Smith  109\n"
          ]
        }
      ],
      "source": [
        "#PANDAS DATAFRAME BASICS\n",
        "import pandas as pd\n",
        "#Empty DataFrame\n",
        "df=pd.DataFrame()\n",
        "print(df)\n",
        "\n",
        "emp=pd.Series(['Parker','John','Smith','William'])\n",
        "id=pd.Series([102,107,109,114])\n",
        "frame={'Emp':emp,'10':id}\n",
        "result=pd.DataFrame(frame)\n",
        "print(\"\\n Series to DataFrame\\n\")\n",
        "print(result)\n",
        "print(\"\\n extracting one column:\\n\")\n",
        "print(result['Emp'])\n",
        "\n",
        "print(\"\\n Adding new column:\\n\")\n",
        "result['Age']=pd.Series([35,24,40,38])\n",
        "print(result)\n",
        "\n",
        "print(\"\\n deleting one column :\\n\")\n",
        "del result['Age']\n",
        "print(result)\n",
        "\n",
        "print(\"\\n Extracting the third row:\\n\")\n",
        "print(result.loc[2])\n",
        "\n",
        "print(\"\\n slice rows:\\n\",result[1:3])\n",
        "d2=pd.DataFrame([['Dale',123],['Mark',143]],columns=['Emp','ID'])\n",
        "\n"
      ]
    }
  ]
}