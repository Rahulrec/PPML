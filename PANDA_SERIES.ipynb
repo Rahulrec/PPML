{
  "nbformat": 4,
  "nbformat_minor": 0,
  "metadata": {
    "colab": {
      "provenance": [],
      "authorship_tag": "ABX9TyNaDs+SaaCPn+Cf0e8tCQDX",
      "include_colab_link": true
    },
    "kernelspec": {
      "name": "python3",
      "display_name": "Python 3"
    },
    "language_info": {
      "name": "python"
    }
  },
  "cells": [
    {
      "cell_type": "markdown",
      "metadata": {
        "id": "view-in-github",
        "colab_type": "text"
      },
      "source": [
        "<a href=\"https://colab.research.google.com/github/Rahulrec/PPML/blob/main/PANDA_SERIES.ipynb\" target=\"_parent\"><img src=\"https://colab.research.google.com/assets/colab-badge.svg\" alt=\"Open In Colab\"/></a>"
      ]
    },
    {
      "cell_type": "code",
      "execution_count": null,
      "metadata": {
        "colab": {
          "base_uri": "https://localhost:8080/"
        },
        "id": "7Hc4a43r_OtB",
        "outputId": "cf8b84ee-1f19-4196-913e-54c0309128d5"
      },
      "outputs": [
        {
          "output_type": "stream",
          "name": "stdout",
          "text": [
            "series from array:\n",
            "0    P\n",
            "1    a\n",
            "2    n\n",
            "3    d\n",
            "4    a\n",
            "5    s\n",
            "dtype: object\n",
            "\n",
            "\n",
            "series from dictionary:\n",
            "\n",
            "x    0.0\n",
            "y    1.0\n",
            "z    2.0\n",
            "dtype: float64\n",
            "\n",
            " Series using scalar\n",
            "\n",
            "0    4\n",
            "1    4\n",
            "2    4\n",
            "3    4\n",
            "dtype: int64\n",
            "\n",
            " series through index:\n",
            "a    1\n",
            "b    2\n",
            "c    3\n",
            "dtype: int64\n",
            "\n",
            " a series:\n",
            " 0    1\n",
            "1    2\n",
            "2    3\n",
            "3    4\n",
            "dtype: int64\n",
            "\n",
            " index:\n",
            "  RangeIndex(start=0, stop=4, step=1)\n",
            "\n",
            " values:\n",
            " [1 2 3 4]\n",
            "\n",
            " shape:\n",
            " (4,)\n",
            "\n",
            " dimension:\n",
            " 1\n",
            "\n",
            " size:\n",
            " 4\n"
          ]
        }
      ],
      "source": [
        "#PANDA SERIES\n",
        "import pandas as pd\n",
        "import numpy as np\n",
        "#creating series from array\n",
        "arr=np.array(['P','a','n','d','a','s'])\n",
        "a=pd.Series(arr)\n",
        "print(\"series from array:\")\n",
        "print(a)\n",
        "\n",
        "#series from dictionary\n",
        "arr={'x':0.,'y':1.,'z':2.}\n",
        "b=pd.Series(arr)\n",
        "print(\"\\n\\nseries from dictionary:\\n\")\n",
        "print(b)\n",
        "\n",
        "#series using scalar\n",
        "x=pd.Series(4,index=[0,1,2,3])\n",
        "print(\"\\n Series using scalar\\n\")\n",
        "print(x)\n",
        "\n",
        "#series through index\n",
        "x= pd.Series((1,2,3),index=['a','b','c'])\n",
        "print(\"\\n series through index:\")\n",
        "print(x)\n",
        "\n",
        "a=pd.Series(data=[1,2,3,4])\n",
        "print(\"\\n a series:\\n\",a)\n",
        "print(\"\\n index:\\n \",a.index)\n",
        "print(\"\\n values:\\n\",a.values)\n",
        "print(\"\\n shape:\\n\",a.shape)\n",
        "print(\"\\n dimension:\\n\",a.ndim)\n",
        "print(\"\\n size:\\n\",a.size)"
      ]
    }
  ]
}