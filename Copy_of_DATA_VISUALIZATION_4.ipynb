{
  "nbformat": 4,
  "nbformat_minor": 0,
  "metadata": {
    "colab": {
      "provenance": [],
      "authorship_tag": "ABX9TyPngQam4VNNA2o/RwPK+Rea",
      "include_colab_link": true
    },
    "kernelspec": {
      "name": "python3",
      "display_name": "Python 3"
    },
    "language_info": {
      "name": "python"
    }
  },
  "cells": [
    {
      "cell_type": "markdown",
      "metadata": {
        "id": "view-in-github",
        "colab_type": "text"
      },
      "source": [
        "<a href=\"https://colab.research.google.com/github/Rahulrec/PPML/blob/main/Copy_of_DATA_VISUALIZATION_4.ipynb\" target=\"_parent\"><img src=\"https://colab.research.google.com/assets/colab-badge.svg\" alt=\"Open In Colab\"/></a>"
      ]
    },
    {
      "cell_type": "code",
      "execution_count": null,
      "metadata": {
        "id": "75m1iaJk8t7H"
      },
      "outputs": [],
      "source": [
        "#DATA VISUALIZATION-4\n",
        "import seaborn as sns\n",
        "import matplotlib.pyplot as plt\n",
        "import pandas as pd\n",
        "import numpy as np\n",
        "import plotly.express as px\n",
        "\n",
        "#seaborn package\n",
        "xpoints=np.array([0,20,120,200])\n",
        "ypoints=np.array([10,80,100,120,150,180,250])\n",
        "\n",
        "print(sns.lineplot(data=ypoints))\n",
        "print(plt.show())\n",
        "\n",
        "print(sns.scatterplot(data=ypoints))\n",
        "print(plt.show())\n",
        "\n",
        "print(sns.barplot(data=ypoints))\n",
        "print(plt.show())\n",
        "\n",
        "#3D plot\n",
        "x=np.array([1,2,6,8,12,14,20])\n",
        "y=np.array([3,8,1,10,12,16,18])\n",
        "fig=plt.figure(figsize=(12,8))\n",
        "ax=plt.axes(projection='3d')\n",
        "plt_3d=ax.scatter3D(x,y)\n",
        "plt.colorbar(plt_3d)\n",
        "plt.show()\n",
        "\n",
        "#plotly package\n",
        "x=np.array([10,80,100,120,150,180,250])\n",
        "fig=px.scatter (x)\n",
        "fig.show()"
      ]
    }
  ]
}