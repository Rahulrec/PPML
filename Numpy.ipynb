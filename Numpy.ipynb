{
  "nbformat": 4,
  "nbformat_minor": 0,
  "metadata": {
    "colab": {
      "provenance": [],
      "authorship_tag": "ABX9TyMYBnUnD/7jF66QmWd9D30z",
      "include_colab_link": true
    },
    "kernelspec": {
      "name": "python3",
      "display_name": "Python 3"
    },
    "language_info": {
      "name": "python"
    }
  },
  "cells": [
    {
      "cell_type": "markdown",
      "metadata": {
        "id": "view-in-github",
        "colab_type": "text"
      },
      "source": [
        "<a href=\"https://colab.research.google.com/github/Rahulrec/cc/blob/main/Numpy.ipynb\" target=\"_parent\"><img src=\"https://colab.research.google.com/assets/colab-badge.svg\" alt=\"Open In Colab\"/></a>"
      ]
    },
    {
      "cell_type": "code",
      "execution_count": null,
      "metadata": {
        "id": "O8cGRqWoDo3p",
        "colab": {
          "base_uri": "https://localhost:8080/"
        },
        "outputId": "ce75652c-1d43-48d9-d93c-20b797658d60"
      },
      "outputs": [
        {
          "output_type": "stream",
          "name": "stdout",
          "text": [
            "Original array: [1 2 3 4 5 4 4]\n",
            "\n",
            " Indexes where the value is 4: (array([3, 5, 6]),)\n",
            "\n",
            " Original array: [1 2 3 4 5 6 7 8]\n",
            "\n",
            " Indexes where the values are even: (array([1, 3, 5, 7]),)\n",
            "\n",
            " Indexes where the value 3 should be inserted,starting from the right: 2\n",
            "\n",
            " Original array: [3 2 0 1]\n",
            "\n",
            " Sorted array: [0 1 2 3]\n",
            "\n",
            " Original array: [41 42 43 44]\n",
            "\n",
            " Filter index: [True, False, True, False]\n",
            "\n",
            " Filter array: [41 43]\n",
            "\n",
            " Original array: [41 42 43 44]\n",
            "\n",
            " Filter array:condition->42: [False False  True  True]\n",
            "\n",
            " New array: [43 44]\n"
          ]
        }
      ],
      "source": [
        "import numpy as np\n",
        "arr=np.array([1,2,3,4,5,4,4])\n",
        "print(\"Original array:\",arr)\n",
        "x=np.where(arr==4)\n",
        "print(\"\\n Indexes where the value is 4:\",x)\n",
        "arr=np.array([1,2,3,4,5,6,7,8])\n",
        "x=np.where(arr%2==0)\n",
        "print(\"\\n Original array:\",arr)\n",
        "print(\"\\n Indexes where the values are even:\",x)\n",
        "x=np.searchsorted(arr,3,side='left')\n",
        "print(\"\\n Indexes where the value 3 should be inserted,starting from the right:\",x)\n",
        "arr=np.array([3,2,0,1])\n",
        "print(\"\\n Original array:\",arr)\n",
        "print(\"\\n Sorted array:\",np.sort(arr))\n",
        "arr=np.array([41,42,43,44])\n",
        "x=[True,False,True,False]\n",
        "newarr=arr[x]\n",
        "print(\"\\n Original array:\",arr)\n",
        "print(\"\\n Filter index:\",x)\n",
        "print(\"\\n Filter array:\",newarr)\n",
        "arr=np.array([41,42,43,44])\n",
        "filter_arr=arr>42\n",
        "newarr=arr[filter_arr]\n",
        "print(\"\\n Original array:\",arr)\n",
        "print(\"\\n Filter array:condition->42:\",filter_arr)\n",
        "print(\"\\n New array:\",newarr)"
      ]
    }
  ]
}